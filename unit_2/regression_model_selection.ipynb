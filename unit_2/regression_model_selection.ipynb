{
 "cells": [
  {
   "cell_type": "markdown",
   "metadata": {},
   "source": [
    "# Regression Model Selection"
   ]
  },
  {
   "cell_type": "markdown",
   "metadata": {},
   "source": [
    "## Constants"
   ]
  },
  {
   "cell_type": "code",
   "execution_count": 104,
   "metadata": {},
   "outputs": [
    {
     "name": "stdout",
     "output_type": "stream",
     "text": [
      "Selected model: RANDOM_FOREST_REGRESSION\n"
     ]
    }
   ],
   "source": [
    "MULTIPLE_LINEAR_REGRESSION = \"MULTIPLE_LINEAR_REGRESSION\"\n",
    "POLYNOMIAL_REGRESSION = \"POLYNOMIAL_REGRESSION\"\n",
    "SUPPORT_VECTOR_REGRESSION = \"SUPPORT_VECTOR_REGRESSION\"\n",
    "DECISION_TREE_REGRESSION = \"DECISION_TREE_REGRESSION\"\n",
    "RANDOM_FOREST_REGRESSION = \"RANDOM_FOREST_REGRESSION\"\n",
    "ALL_MODELS = [ MULTIPLE_LINEAR_REGRESSION, POLYNOMIAL_REGRESSION, SUPPORT_VECTOR_REGRESSION, DECISION_TREE_REGRESSION, RANDOM_FOREST_REGRESSION ]\n",
    "\n",
    "MODEL_TYPE = None\n",
    "\n",
    "while MODEL_TYPE not in ALL_MODELS:\n",
    "    MODEL_TYPE = input(\"Enter the model type: \").replace(\" \", \"_\").upper()\n",
    "\n",
    "print(f\"Selected model: {MODEL_TYPE}\")"
   ]
  },
  {
   "cell_type": "markdown",
   "metadata": {},
   "source": [
    "## Import Libraries"
   ]
  },
  {
   "cell_type": "code",
   "execution_count": 105,
   "metadata": {},
   "outputs": [],
   "source": [
    "import matplotlib.pyplot as plt\n",
    "import pandas as pd\n",
    "import numpy as np"
   ]
  },
  {
   "cell_type": "markdown",
   "metadata": {},
   "source": [
    "## Import Dataset"
   ]
  },
  {
   "cell_type": "code",
   "execution_count": 106,
   "metadata": {},
   "outputs": [],
   "source": [
    "dataset = pd.read_csv(\"datasets/energy.csv\")\n",
    "X = dataset.iloc[:, :-1].values\n",
    "y = dataset.iloc[:, -1].values"
   ]
  },
  {
   "cell_type": "markdown",
   "metadata": {},
   "source": [
    "## Split Dataset"
   ]
  },
  {
   "cell_type": "code",
   "execution_count": 107,
   "metadata": {},
   "outputs": [],
   "source": [
    "from sklearn.model_selection import train_test_split\n",
    "\n",
    "X_train, X_test, y_train, y_test = train_test_split(X, y, test_size=1/4, random_state=42)\n",
    "y_pred = []"
   ]
  },
  {
   "cell_type": "markdown",
   "metadata": {},
   "source": [
    "## Model Selection"
   ]
  },
  {
   "cell_type": "markdown",
   "metadata": {},
   "source": [
    "### Multiple Linear Regression"
   ]
  },
  {
   "cell_type": "code",
   "execution_count": 108,
   "metadata": {},
   "outputs": [],
   "source": [
    "if MODEL_TYPE == MULTIPLE_LINEAR_REGRESSION:\n",
    "    \n",
    "    # Create Linear Regression model\n",
    "    from sklearn.linear_model import LinearRegression\n",
    "\n",
    "    regressor = LinearRegression()\n",
    "    regressor.fit(X_train, y_train)\n",
    "\n",
    "    # Make Predictions\n",
    "    y_pred = regressor.predict(X_test)\n"
   ]
  },
  {
   "cell_type": "markdown",
   "metadata": {},
   "source": [
    "### Polynomial Regression"
   ]
  },
  {
   "cell_type": "code",
   "execution_count": 109,
   "metadata": {},
   "outputs": [],
   "source": [
    "if MODEL_TYPE == POLYNOMIAL_REGRESSION:\n",
    "\n",
    "    # Create Polynomial Regression Model\n",
    "    from sklearn.preprocessing import PolynomialFeatures\n",
    "\n",
    "    poly_reg = PolynomialFeatures(degree=4)\n",
    "    X_poly = poly_reg.fit_transform(X_train)\n",
    "\n",
    "    # Create Linear Regression Model\n",
    "    from sklearn.linear_model import LinearRegression\n",
    "\n",
    "    lin_reg = LinearRegression()\n",
    "    lin_reg.fit(X_poly, y_train)\n",
    "\n",
    "    # Make Predictions\n",
    "    y_pred = lin_reg.predict(poly_reg.transform(X_test))"
   ]
  },
  {
   "cell_type": "markdown",
   "metadata": {},
   "source": [
    "### Support Vector Regression"
   ]
  },
  {
   "cell_type": "code",
   "execution_count": 110,
   "metadata": {},
   "outputs": [],
   "source": [
    "if MODEL_TYPE == SUPPORT_VECTOR_REGRESSION:\n",
    "    \n",
    "    # Reformat Data\n",
    "    y = y.reshape(-1, 1)\n",
    "    X_train, X_test, y_train, y_test = train_test_split(X, y, test_size=1/4, random_state=42)\n",
    "\n",
    "    # Feature Scaling\n",
    "    from sklearn.preprocessing import StandardScaler\n",
    "\n",
    "    sc_X = StandardScaler()\n",
    "    sc_y = StandardScaler()\n",
    "\n",
    "    X_train = sc_X.fit_transform(X_train)\n",
    "    y_train = sc_y.fit_transform(y_train)\n",
    "\n",
    "    # Create Support Vector Regression Model\n",
    "    from sklearn.svm import SVR\n",
    "\n",
    "    regressor = SVR(kernel=\"rbf\")\n",
    "    regressor.fit(X_train, y_train.ravel())\n",
    "\n",
    "    # Make Predictions\n",
    "    y_pred = sc_y.inverse_transform(regressor.predict(sc_X.transform(X_test)).reshape(-1, 1))"
   ]
  },
  {
   "cell_type": "markdown",
   "metadata": {},
   "source": [
    "### Decision Tree Regression"
   ]
  },
  {
   "cell_type": "code",
   "execution_count": 111,
   "metadata": {},
   "outputs": [],
   "source": [
    "if MODEL_TYPE == DECISION_TREE_REGRESSION:\n",
    "\n",
    "    # Create Model\n",
    "    from sklearn.tree import DecisionTreeRegressor\n",
    "\n",
    "    regressor = DecisionTreeRegressor(random_state=42)\n",
    "    regressor.fit(X_train, y_train)\n",
    "\n",
    "    # Make Predictions\n",
    "    y_pred = regressor.predict(X_test)"
   ]
  },
  {
   "cell_type": "markdown",
   "metadata": {},
   "source": [
    "### Random Forest Regression"
   ]
  },
  {
   "cell_type": "code",
   "execution_count": 112,
   "metadata": {},
   "outputs": [],
   "source": [
    "if MODEL_TYPE == RANDOM_FOREST_REGRESSION:\n",
    "\n",
    "    # Create Model\n",
    "    from sklearn.ensemble import RandomForestRegressor\n",
    "\n",
    "    regressor = RandomForestRegressor(n_estimators=10, random_state=42)\n",
    "    regressor.fit(X_train, y_train)\n",
    "\n",
    "    # Make Predictions\n",
    "    y_pred = regressor.predict(X_test)"
   ]
  },
  {
   "cell_type": "code",
   "execution_count": 113,
   "metadata": {},
   "outputs": [
    {
     "name": "stdout",
     "output_type": "stream",
     "text": [
      "[[454.44 455.27]\n",
      " [436.21 436.31]\n",
      " [436.13 440.68]\n",
      " ...\n",
      " [459.62 459.38]\n",
      " [473.7  475.24]\n",
      " [451.39 450.64]]\n"
     ]
    }
   ],
   "source": [
    "np.set_printoptions(precision=2)\n",
    "print(np.concatenate((y_pred.reshape(-1, 1), y_test.reshape(-1, 1)), 1))"
   ]
  },
  {
   "cell_type": "markdown",
   "metadata": {},
   "source": [
    "## Model Performance"
   ]
  },
  {
   "cell_type": "code",
   "execution_count": 114,
   "metadata": {},
   "outputs": [
    {
     "data": {
      "text/plain": [
       "0.9566637376476244"
      ]
     },
     "execution_count": 114,
     "metadata": {},
     "output_type": "execute_result"
    }
   ],
   "source": [
    "from sklearn.metrics import r2_score\n",
    "r2_score(y_test, y_pred)"
   ]
  }
 ],
 "metadata": {
  "interpreter": {
   "hash": "de86bf307ed4b7f1eab550cc64e8c477c4ae90647df7cd89218ba34062c5e839"
  },
  "kernelspec": {
   "display_name": "Python 3.10.1 64-bit",
   "language": "python",
   "name": "python3"
  },
  "language_info": {
   "codemirror_mode": {
    "name": "ipython",
    "version": 3
   },
   "file_extension": ".py",
   "mimetype": "text/x-python",
   "name": "python",
   "nbconvert_exporter": "python",
   "pygments_lexer": "ipython3",
   "version": "3.10.1"
  },
  "orig_nbformat": 4
 },
 "nbformat": 4,
 "nbformat_minor": 2
}
