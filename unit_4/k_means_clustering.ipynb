{
 "cells": [
  {
   "cell_type": "markdown",
   "metadata": {},
   "source": [
    "## K-Means Clustering\n",
    "1. Select at random K points (centroids)\n",
    "2. Assign datapoints to centroids (forms K clusters)\n",
    "3. Move centroids to the mean of their clusters\n",
    "4. Repeat steps 2-4 until centroids do not change\n",
    "\n",
    "Randomly selected centroids can impact the results; addressed through K-means++"
   ]
  },
  {
   "cell_type": "markdown",
   "metadata": {},
   "source": [
    "## How to Select K\n",
    "Within Cluster Sum of Squares (WCSS) by K-means: sum of squared distances of each point to its centroid  \n",
    "Ideal K minimizes WCSS, but too many clusters can lead to overfitting where each point is its own cluster  \n",
    "Elbow method: plot WCSS vs K and select the K that sharply reduces WCSS"
   ]
  },
  {
   "cell_type": "markdown",
   "metadata": {},
   "source": [
    "## Import Libraries"
   ]
  },
  {
   "cell_type": "code",
   "execution_count": 1,
   "metadata": {},
   "outputs": [],
   "source": [
    "import matplotlib.pyplot as plt\n",
    "import pandas as pd\n",
    "import numpy as np"
   ]
  },
  {
   "cell_type": "markdown",
   "metadata": {},
   "source": [
    "## Import Dataset"
   ]
  },
  {
   "cell_type": "code",
   "execution_count": 4,
   "metadata": {},
   "outputs": [],
   "source": [
    "dataset = pd.read_csv(\"datasets/mall_customers.csv\")\n",
    "X = dataset.iloc[:, [3, 4]].values"
   ]
  },
  {
   "cell_type": "markdown",
   "metadata": {},
   "source": [
    "## Elbow Method"
   ]
  },
  {
   "cell_type": "code",
   "execution_count": 7,
   "metadata": {},
   "outputs": [
    {
     "data": {
      "image/png": "[encoded data removed]",
      "text/plain": [
       "<Figure size 432x288 with 1 Axes>"
      ]
     },
     "metadata": {
      "needs_background": "light"
     },
     "output_type": "display_data"
    }
   ],
   "source": [
    "from sklearn.cluster import KMeans\n",
    "\n",
    "X_grid = range(1, 11)\n",
    "\n",
    "wcss = []\n",
    "for i in X_grid:\n",
    "    cluster = KMeans(n_clusters=i, init=\"k-means++\", random_state=42)\n",
    "    cluster.fit(X)\n",
    "\n",
    "    wcss.append(cluster.inertia_)\n",
    "\n",
    "plt.plot(X_grid, wcss)\n",
    "plt.xticks(X_grid)\n",
    "\n",
    "plt.title(\"Elbow Method\")\n",
    "plt.xlabel(\"N of Clusters\")\n",
    "plt.ylabel(\"WCSS\")\n",
    "\n",
    "plt.show()\n",
    "\n",
    "# 5 is the best number of clusters"
   ]
  }
 ],
 "metadata": {
  "interpreter": {
   "hash": "de86bf307ed4b7f1eab550cc64e8c477c4ae90647df7cd89218ba34062c5e839"
  },
  "kernelspec": {
   "display_name": "Python 3.10.1 64-bit",
   "language": "python",
   "name": "python3"
  },
  "language_info": {
   "codemirror_mode": {
    "name": "ipython",
    "version": 3
   },
   "file_extension": ".py",
   "mimetype": "text/x-python",
   "name": "python",
   "nbconvert_exporter": "python",
   "pygments_lexer": "ipython3",
   "version": "3.10.1"
  },
  "orig_nbformat": 4
 },
 "nbformat": 4,
 "nbformat_minor": 2
}
