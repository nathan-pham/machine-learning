{
 "cells": [
  {
   "cell_type": "markdown",
   "metadata": {},
   "source": [
    "## K-Means Clustering\n",
    "1. Select at random K points (centroids)\n",
    "2. Assign datapoints to centroids (forms K clusters)\n",
    "3. Move centroids to the mean of their clusters\n",
    "4. Repeat steps 2-4 until centroids do not change\n",
    "\n",
    "Randomly selected centroids can impact the results; addressed through K-means++"
   ]
  },
  {
   "cell_type": "markdown",
   "metadata": {},
   "source": [
    "## How to Select K\n",
    "Within Cluster Sum of Squares (WCSS) by K-means: sum of squared distances of each point to its centroid  \n",
    "Ideal K minimizes WCSS, but too many clusters can lead to overfitting where each point is its own cluster  \n",
    "Elbow method: plot WCSS vs K and select the K that sharply reduces WCSS"
   ]
  },
  {
   "cell_type": "markdown",
   "metadata": {},
   "source": [
    "## Import Libraries"
   ]
  },
  {
   "cell_type": "code",
   "execution_count": 12,
   "metadata": {},
   "outputs": [],
   "source": [
    "import matplotlib.pyplot as plt\n",
    "import pandas as pd\n",
    "import numpy as np"
   ]
  },
  {
   "cell_type": "markdown",
   "metadata": {},
   "source": [
    "## Import Dataset"
   ]
  },
  {
   "cell_type": "code",
   "execution_count": 13,
   "metadata": {},
   "outputs": [],
   "source": [
    "dataset = pd.read_csv(\"datasets/mall_customers.csv\")\n",
    "X = dataset.iloc[:, 2:].values"
   ]
  },
  {
   "cell_type": "markdown",
   "metadata": {},
   "source": [
    "## Elbow Method"
   ]
  },
  {
   "cell_type": "code",
   "execution_count": 11,
   "metadata": {},
   "outputs": [
    {
     "data": {
      "image/png": "[encoded data removed]",
      "text/plain": [
       "<Figure size 432x288 with 1 Axes>"
      ]
     },
     "metadata": {
      "needs_background": "light"
     },
     "output_type": "display_data"
    }
   ],
   "source": [
    "from sklearn.cluster import KMeans\n",
    "\n",
    "X_grid = range(1, 11)\n",
    "\n",
    "wcss = []\n",
    "for i in X_grid:\n",
    "    kmeans = KMeans(n_clusters=i, init=\"k-means++\", random_state=42)\n",
    "    kmeans.fit(X)\n",
    "\n",
    "    wcss.append(kmeans.inertia_)\n",
    "\n",
    "plt.plot(X_grid, wcss)\n",
    "plt.xticks(X_grid)\n",
    "\n",
    "plt.title(\"Elbow Method\")\n",
    "plt.xlabel(\"N of Clusters\")\n",
    "plt.ylabel(\"WCSS\")\n",
    "\n",
    "plt.show()"
   ]
  },
  {
   "cell_type": "markdown",
   "metadata": {},
   "source": [
    "## Create Model"
   ]
  },
  {
   "cell_type": "code",
   "execution_count": 26,
   "metadata": {},
   "outputs": [
    {
     "name": "stdout",
     "output_type": "stream",
     "text": [
      "5\n"
     ]
    }
   ],
   "source": [
    "from sklearn.cluster import KMeans\n",
    "\n",
    "kmeans = KMeans(n_clusters=5, init=\"k-means++\", random_state=42)\n",
    "kmeans.fit(X)"
   ]
  },
  {
   "cell_type": "markdown",
   "metadata": {},
   "source": [
    "## Visualize Results"
   ]
  },
  {
   "cell_type": "code",
   "execution_count": 33,
   "metadata": {},
   "outputs": [],
   "source": [
    "from matplotlib import animation\n",
    "\n",
    "y_clusters = kmeans.predict(X)\n",
    "\n",
    "fig = plt.figure(figsize = (15, 15))\n",
    "ax = fig.add_subplot(111, projection=\"3d\")\n",
    "\n",
    "scatters = []\n",
    "\n",
    "for i in range(kmeans.n_clusters):\n",
    "    scatters.append(ax.scatter(X[y_clusters == i, 0], X[y_clusters == i, 1], X[y_clusters == i, 2], s=40, alpha=0.5, label=f\"cluster {i}\"))\n",
    "\n",
    "ax.set_title(\"K-Means Clustering\")\n",
    "ax.set_xlabel(\"Age\")\n",
    "ax.set_ylabel(\"Annual Income\")\n",
    "ax.set_zlabel(\"Spending Score\")\n",
    "\n",
    "def init():\n",
    "    ax.view_init(elev=10., azim=0)\n",
    "    return scatters\n",
    "\n",
    "def animate(i):\n",
    "    ax.view_init(elev=10., azim=i)\n",
    "    return scatters\n",
    "\n",
    "anim = animation.FuncAnimation(fig, animate, init_func=init, frames=360, interval=20, blit=True)\n",
    "anim.save(\"basic_animation.mp4\", fps=30, extra_args=['-vcodec', 'libx264'])\n",
    "\n",
    "plt.show()"
   ]
  }
 ],
 "metadata": {
  "interpreter": {
   "hash": "de86bf307ed4b7f1eab550cc64e8c477c4ae90647df7cd89218ba34062c5e839"
  },
  "kernelspec": {
   "display_name": "Python 3.10.1 64-bit",
   "language": "python",
   "name": "python3"
  },
  "language_info": {
   "codemirror_mode": {
    "name": "ipython",
    "version": 3
   },
   "file_extension": ".py",
   "mimetype": "text/x-python",
   "name": "python",
   "nbconvert_exporter": "python",
   "pygments_lexer": "ipython3",
   "version": "3.10.1"
  },
  "orig_nbformat": 4
 },
 "nbformat": 4,
 "nbformat_minor": 2
}
